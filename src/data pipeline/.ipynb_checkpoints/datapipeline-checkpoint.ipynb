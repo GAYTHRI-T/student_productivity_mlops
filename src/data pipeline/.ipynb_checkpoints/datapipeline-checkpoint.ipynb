{
 "cells": [
  {
   "cell_type": "code",
   "execution_count": 1,
   "id": "ec35d66d-f559-4cd6-a947-16c83746b19f",
   "metadata": {},
   "outputs": [],
   "source": [
    "# Step 1: Import necessary libraries\n",
    "import pandas as pd\n",
    "import numpy as np\n",
    "import matplotlib.pyplot as plt\n",
    "import seaborn as sns\n",
    "import os"
   ]
  },
  {
   "cell_type": "code",
   "execution_count": 7,
   "id": "25b93ecd-de62-4028-9d19-0f08f3698aa4",
   "metadata": {},
   "outputs": [],
   "source": [
    "# Step 2: Define File Paths\n",
    "RAW_DATA_PATH = 'C:/Users/gayth/student_productivity_mlops/data/student_productivity.csv'\n",
    "PROCESSED_DATA_PATH = 'C:/Users/gayth/student_productivity_mlops/data/processed_data.csv'"
   ]
  },
  {
   "cell_type": "code",
   "execution_count": 9,
   "id": "40f20d90-510d-440b-adba-533e4e7137be",
   "metadata": {},
   "outputs": [],
   "source": [
    "# Step 3: Load data\n",
    "def load_data(file_path):\n",
    "    if not os.path.exists(file_path):\n",
    "        raise FileNotFoundError(f\"File not found: {file_path}\")\n",
    "    df = pd.read_csv(file_path)\n",
    "    print(\"Data Loaded Successfully\")\n",
    "    return df"
   ]
  },
  {
   "cell_type": "code",
   "execution_count": 11,
   "id": "311eee92-0b99-4414-8945-036e44f0228e",
   "metadata": {},
   "outputs": [],
   "source": [
    "# Step 4: Explore data\n",
    "def explore_data(df):\n",
    "    print(\"\\nDataset Info:\")\n",
    "    print(df.info())\n",
    "    print(\"\\nSummary Stats:\")\n",
    "    print(df.describe())\n",
    "    print(\"\\nMissing Values:\")\n",
    "    print(df.isnull().sum())"
   ]
  },
  {
   "cell_type": "code",
   "execution_count": 13,
   "id": "fef75265-b539-4a41-923b-e72437a7fd10",
   "metadata": {},
   "outputs": [],
   "source": [
    "# Step 5: Visualizations (basic)\n",
    "def plot_distribution(df, column):\n",
    "    plt.figure(figsize=(8, 4))\n",
    "    sns.histplot(df[column], kde=True)\n",
    "    plt.title(f'Distribution of {column}')\n",
    "    plt.show()"
   ]
  },
  {
   "cell_type": "code",
   "execution_count": 25,
   "id": "4e230587-f957-4802-aadb-5decd1a29888",
   "metadata": {},
   "outputs": [],
   "source": [
    "# Step 6: Clean data\n",
    "def clean_data(df):\n",
    "    df = df.copy()\n",
    "    # Fill missing numeric values with mean\n",
    "    df.fillna(df.mean(numeric_only=True), inplace=True)\n",
    "    # Fill missing categorical values with mode\n",
    "    for col in df.select_dtypes(include='object'):\n",
    "        df[col] = df[col].fillna(df[col].mode()[0])\n",
    "    print(\"Missing values handled\")\n",
    "    return df"
   ]
  },
  {
   "cell_type": "code",
   "execution_count": 17,
   "id": "92c41596-4628-4a50-a860-e84c5a957a5b",
   "metadata": {},
   "outputs": [],
   "source": [
    "# Step 7: Feature engineering\n",
    "def feature_engineering(df):\n",
    "    df = df.copy()\n",
    "    # Create a total social media usage column\n",
    "    df['Total_Social_Media'] = (\n",
    "        df['WhatsApp_Time'] + df['Insta_Reel_Freq'] +\n",
    "        df['YouTube_Entertainment'] + df['Call_Chat_Time']\n",
    "    )\n",
    "    # drop ID/name if not useful\n",
    "    # df.drop(['Student_ID', 'Student_Name'], axis=1, inplace=True)\n",
    "    print(\"Feature engineering completed\")\n",
    "    return df"
   ]
  },
  {
   "cell_type": "code",
   "execution_count": 19,
   "id": "4c3054c0-2e21-4e9d-b766-56913ed28e8e",
   "metadata": {},
   "outputs": [],
   "source": [
    "# Step 8: Save processed data\n",
    "def save_data(df, file_path):\n",
    "    df.to_csv(file_path, index=False)\n",
    "    print(f\"Cleaned data saved to {file_path}\")"
   ]
  },
  {
   "cell_type": "code",
   "execution_count": 21,
   "id": "5e64154c-eea4-4d48-b265-38569422387d",
   "metadata": {},
   "outputs": [],
   "source": [
    "#  Step 9: Run the pipeline\n",
    "def run_data_pipeline():\n",
    "    df = load_data(RAW_DATA_PATH)\n",
    "    explore_data(df)\n",
    "    plot_distribution(df, 'WhatsApp_Time')\n",
    "    df_clean = clean_data(df)\n",
    "    df_fe = feature_engineering(df_clean)\n",
    "    save_data(df_fe, PROCESSED_DATA_PATH)"
   ]
  },
  {
   "cell_type": "code",
   "execution_count": 27,
   "id": "2a078cbc-8f16-4f24-945e-b69fbaebf491",
   "metadata": {},
   "outputs": [
    {
     "name": "stdout",
     "output_type": "stream",
     "text": [
      "Data Loaded Successfully\n",
      "\n",
      "Dataset Info:\n",
      "<class 'pandas.core.frame.DataFrame'>\n",
      "RangeIndex: 1000 entries, 0 to 999\n",
      "Data columns (total 20 columns):\n",
      " #   Column                 Non-Null Count  Dtype  \n",
      "---  ------                 --------------  -----  \n",
      " 0   Student_ID             1000 non-null   int64  \n",
      " 1   Student_Name           1000 non-null   object \n",
      " 2   Grade                  1000 non-null   int64  \n",
      " 3   Section                1000 non-null   object \n",
      " 4   Maths                  1000 non-null   int64  \n",
      " 5   Computer_Science       1000 non-null   int64  \n",
      " 6   English                1000 non-null   int64  \n",
      " 7   Tamil                  1000 non-null   int64  \n",
      " 8   Physics                1000 non-null   int64  \n",
      " 9   Chemistry              1000 non-null   int64  \n",
      " 10  Total_Marks            1000 non-null   int64  \n",
      " 11  Percentage             1000 non-null   float64\n",
      " 12  Grade.1                1000 non-null   object \n",
      " 13  Pass/Fail              1000 non-null   object \n",
      " 14  WhatsApp_Time          997 non-null    float64\n",
      " 15  Insta_Reel_Freq        997 non-null    float64\n",
      " 16  YouTube_Entertainment  973 non-null    float64\n",
      " 17  Study_Time             976 non-null    float64\n",
      " 18  Call_Chat_Time         997 non-null    float64\n",
      " 19  Productivity_Score     994 non-null    float64\n",
      "dtypes: float64(7), int64(9), object(4)\n",
      "memory usage: 156.4+ KB\n",
      "None\n",
      "\n",
      "Summary Stats:\n",
      "        Student_ID        Grade        Maths  Computer_Science      English  \\\n",
      "count  1000.000000  1000.000000  1000.000000       1000.000000  1000.000000   \n",
      "mean    500.500000    11.499000    67.654000         67.092000    68.108000   \n",
      "std     288.819436     0.500249    18.798289         19.501124    18.849128   \n",
      "min       1.000000    11.000000    35.000000         35.000000    35.000000   \n",
      "25%     250.750000    11.000000    52.000000         49.000000    52.000000   \n",
      "50%     500.500000    11.000000    67.500000         67.000000    69.000000   \n",
      "75%     750.250000    12.000000    84.000000         84.000000    84.000000   \n",
      "max    1000.000000    12.000000   100.000000        100.000000   100.000000   \n",
      "\n",
      "             Tamil      Physics    Chemistry  Total_Marks   Percentage  \\\n",
      "count  1000.000000  1000.000000  1000.000000  1000.000000  1000.000000   \n",
      "mean     67.202000    66.795000    67.834000   404.685000    67.447620   \n",
      "std      18.633744    19.480001    19.289493    48.140433     8.023368   \n",
      "min      35.000000    35.000000    35.000000   257.000000    42.830000   \n",
      "25%      51.000000    49.000000    51.000000   371.000000    61.830000   \n",
      "50%      67.000000    67.000000    68.000000   404.500000    67.415000   \n",
      "75%      83.000000    84.000000    85.000000   438.000000    73.000000   \n",
      "max     100.000000   100.000000   100.000000   543.000000    90.500000   \n",
      "\n",
      "       WhatsApp_Time  Insta_Reel_Freq  YouTube_Entertainment  Study_Time  \\\n",
      "count     997.000000       997.000000             973.000000  976.000000   \n",
      "mean        2.745537         2.560682               2.786639    3.579918   \n",
      "std         1.305584         1.684318               1.300169    1.412387   \n",
      "min         0.500000         0.000000               0.500000    1.000000   \n",
      "25%         1.600000         1.000000               1.700000    2.400000   \n",
      "50%         2.700000         3.000000               2.900000    3.600000   \n",
      "75%         3.900000         4.000000               3.900000    4.800000   \n",
      "max         5.000000         5.000000               5.000000    6.000000   \n",
      "\n",
      "       Call_Chat_Time  Productivity_Score  \n",
      "count      997.000000          994.000000  \n",
      "mean         2.238315           31.572173  \n",
      "std          0.984700           14.388972  \n",
      "min          0.500000            1.100000  \n",
      "25%          1.400000           19.845000  \n",
      "50%          2.200000           31.380000  \n",
      "75%          3.100000           43.067500  \n",
      "max          4.000000           63.660000  \n",
      "\n",
      "Missing Values:\n",
      "Student_ID                0\n",
      "Student_Name              0\n",
      "Grade                     0\n",
      "Section                   0\n",
      "Maths                     0\n",
      "Computer_Science          0\n",
      "English                   0\n",
      "Tamil                     0\n",
      "Physics                   0\n",
      "Chemistry                 0\n",
      "Total_Marks               0\n",
      "Percentage                0\n",
      "Grade.1                   0\n",
      "Pass/Fail                 0\n",
      "WhatsApp_Time             3\n",
      "Insta_Reel_Freq           3\n",
      "YouTube_Entertainment    27\n",
      "Study_Time               24\n",
      "Call_Chat_Time            3\n",
      "Productivity_Score        6\n",
      "dtype: int64\n"
     ]
    },
    {
     "data": {
      "image/png": "[encoded data removed]",
      "text/plain": [
       "<Figure size 800x400 with 1 Axes>"
      ]
     },
     "metadata": {},
     "output_type": "display_data"
    },
    {
     "name": "stdout",
     "output_type": "stream",
     "text": [
      "Missing values handled\n",
      "Feature engineering completed\n",
      "Cleaned data saved to C:/Users/gayth/student_productivity_mlops/data/processed_data.csv\n"
     ]
    }
   ],
   "source": [
    "# Trigger the pipeline\n",
    "run_data_pipeline()"
   ]
  },
  {
   "cell_type": "code",
   "execution_count": null,
   "id": "1f3460f4-a6ae-4894-aefc-521745568b7b",
   "metadata": {},
   "outputs": [],
   "source": []
  }
 ],
 "metadata": {
  "kernelspec": {
   "display_name": "Python 3 (ipykernel)",
   "language": "python",
   "name": "python3"
  },
  "language_info": {
   "codemirror_mode": {
    "name": "ipython",
    "version": 3
   },
   "file_extension": ".py",
   "mimetype": "text/x-python",
   "name": "python",
   "nbconvert_exporter": "python",
   "pygments_lexer": "ipython3",
   "version": "3.12.7"
  }
 },
 "nbformat": 4,
 "nbformat_minor": 5
}
