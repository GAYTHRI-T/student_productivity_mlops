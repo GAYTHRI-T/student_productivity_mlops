{
 "cells": [
  {
   "cell_type": "code",
   "execution_count": null,
   "id": "478bc3ce-2532-4c47-808c-fd5653d956ce",
   "metadata": {},
   "outputs": [],
   "source": [
    "import pandas as pd\n",
    "import numpy as np\n",
    "from sklearn.model_selection import train_test_split\n",
    "from sklearn.metrics import r2_score\n",
    "from sklearn.linear_model import LinearRegression\n",
    "from sklearn.tree import DecisionTreeRegressor\n",
    "from sklearn.ensemble import RandomForestRegressor\n",
    "from xgboost import XGBRegressor\n",
    "import optuna\n",
    "import mlflow\n",
    "import mlflow.sklearn\n",
    "import joblib"
   ]
  },
  {
   "cell_type": "code",
   "execution_count": 1,
   "id": "f19a8c35-799f-4744-8997-4c3b54d9bfed",
   "metadata": {},
   "outputs": [],
   "source": [
    "# 1. Load data\n",
    "def load_data(path):\n",
    "    return pd.read_csv(path)"
   ]
  },
  {
   "cell_type": "code",
   "execution_count": null,
   "id": "fb428b70-def9-4507-82b2-ba59b768956e",
   "metadata": {},
   "outputs": [],
   "source": [
    "# 2. Split data\n",
    "def split_data(df, target_column):\n",
    "    X = df.drop(target_column, axis=1)\n",
    "    y = df[target_column]\n",
    "    return train_test_split(X, y, test_size=0.2, random_state=42)"
   ]
  },
  {
   "cell_type": "code",
   "execution_count": null,
   "id": "ae8d7241-6fc6-472d-b858-2ee71f1a12fd",
   "metadata": {},
   "outputs": [],
   "source": [
    "# 3. Train models\n",
    "def train_models(X_train, y_train, X_test, y_test):\n",
    "    models = {\n",
    "        \"LinearRegression\": LinearRegression(),\n",
    "        \"DecisionTree\": DecisionTreeRegressor(),\n",
    "        \"RandomForest\": RandomForestRegressor(),\n",
    "        \"XGBoost\": XGBRegressor()\n",
    "    }\n",
    "\n",
    "    scores = {}\n",
    "    for name, model in models.items():\n",
    "        model.fit(X_train, y_train)\n",
    "        preds = model.predict(X_test)\n",
    "        score = r2_score(y_test, preds)\n",
    "        scores[name] = (score, model)\n",
    "\n",
    "    return scores"
   ]
  },
  {
   "cell_type": "code",
   "execution_count": null,
   "id": "58aa7731-524a-46e3-9fba-8e11b79e674f",
   "metadata": {},
   "outputs": [],
   "source": [
    "# 4. Select best model\n",
    "def get_best_model(scores_dict):\n",
    "    best_model_name = max(scores_dict, key=lambda k: scores_dict[k][0])\n",
    "    return best_model_name, scores_dict[best_model_name][1]"
   ]
  },
  {
   "cell_type": "code",
   "execution_count": null,
   "id": "47623ea4-6256-4f8f-a092-caa0b9ffc592",
   "metadata": {},
   "outputs": [],
   "source": [
    "# 5. Tune best model using Optuna\n",
    "def tune_model(best_model_name, X_train, y_train, X_test, y_test):\n",
    "    def objective(trial):\n",
    "        if best_model_name == \"RandomForest\":\n",
    "            n_estimators = trial.suggest_int(\"n_estimators\", 50, 300)\n",
    "            max_depth = trial.suggest_int(\"max_depth\", 2, 20)\n",
    "            model = RandomForestRegressor(n_estimators=n_estimators, max_depth=max_depth)\n",
    "        elif best_model_name == \"XGBoost\":\n",
    "            n_estimators = trial.suggest_int(\"n_estimators\", 50, 300)\n",
    "            learning_rate = trial.suggest_float(\"learning_rate\", 0.01, 0.3)\n",
    "            max_depth = trial.suggest_int(\"max_depth\", 2, 20)\n",
    "            model = XGBRegressor(n_estimators=n_estimators, learning_rate=learning_rate, max_depth=max_depth)\n",
    "        else:\n",
    "            return 0  # Skip tuning for others\n",
    "\n",
    "        model.fit(X_train, y_train)\n",
    "        preds = model.predict(X_test)\n",
    "        return r2_score(y_test, preds)\n",
    "\n",
    "    study = optuna.create_study(direction=\"maximize\")\n",
    "    study.optimize(objective, n_trials=20)\n",
    "\n",
    "    best_params = study.best_params\n",
    "\n",
    "    # Retrain with best params\n",
    "    if best_model_name == \"RandomForest\":\n",
    "        best_model = RandomForestRegressor(**best_params)\n",
    "    elif best_model_name == \"XGBoost\":\n",
    "        best_model = XGBRegressor(**best_params)\n",
    "    else:\n",
    "        best_model = None\n",
    "\n",
    "    if best_model:\n",
    "        best_model.fit(X_train, y_train)\n",
    "    return best_model, best_params"
   ]
  },
  {
   "cell_type": "code",
   "execution_count": null,
   "id": "acf4cf41-7a35-4a22-89cb-44af970b8163",
   "metadata": {},
   "outputs": [],
   "source": [
    "# 6. MLflow logging\n",
    "def log_with_mlflow(model, model_name, score, params):\n",
    "    with mlflow.start_run():\n",
    "        mlflow.log_param(\"model_name\", model_name)\n",
    "        mlflow.log_params(params)\n",
    "        mlflow.log_metric(\"r2_score\", score)\n",
    "        mlflow.sklearn.log_model(model, model_name)"
   ]
  },
  {
   "cell_type": "code",
   "execution_count": null,
   "id": "99d91f2e-3e8e-499c-92ab-7d039d055383",
   "metadata": {},
   "outputs": [],
   "source": [
    "# 7. Save model\n",
    "def save_model(model, filename=\"best_model.pkl\"):\n",
    "    joblib.dump(model, filename)"
   ]
  },
  {
   "cell_type": "code",
   "execution_count": null,
   "id": "139df110-a038-445e-bc1b-70ad49b6d792",
   "metadata": {},
   "outputs": [],
   "source": [
    "# Full pipeline runner\n",
    "def run_pipeline(data_path, target_column):\n",
    "    df = load_data(data_path)\n",
    "    X_train, X_test, y_train, y_test = split_data(df, target_column)\n",
    "\n",
    "    model_scores = train_models(X_train, y_train, X_test, y_test)\n",
    "    best_model_name, best_model = get_best_model(model_scores)\n",
    "    best_score = model_scores[best_model_name][0]\n",
    "\n",
    "    print(f\"Best model before tuning: {best_model_name} - R²: {best_score:.4f}\")\n",
    "\n",
    "    if best_model_name in [\"RandomForest\", \"XGBoost\"]:\n",
    "        tuned_model, best_params = tune_model(best_model_name, X_train, y_train, X_test, y_test)\n",
    "        tuned_preds = tuned_model.predict(X_test)\n",
    "        tuned_score = r2_score(y_test, tuned_preds)\n",
    "        print(f\"Tuned {best_model_name} R²: {tuned_score:.4f}\")\n",
    "\n",
    "        log_with_mlflow(tuned_model, best_model_name, tuned_score, best_params)\n",
    "        save_model(tuned_model)\n",
    "    else:\n",
    "        log_with_mlflow(best_model, best_model_name, best_score, {})\n",
    "        save_model(best_model)"
   ]
  },
  {
   "cell_type": "code",
   "execution_count": null,
   "id": "2d9abca1-366b-4dcd-8874-2c2d675463be",
   "metadata": {},
   "outputs": [],
   "source": [
    "run_pipeline(\"cleaned_student_data.csv\", \"target_column_name\")"
   ]
  },
  {
   "cell_type": "code",
   "execution_count": null,
   "id": "f85c60fd-047e-4dcf-bf38-9656610d486a",
   "metadata": {},
   "outputs": [],
   "source": []
  },
  {
   "cell_type": "code",
   "execution_count": null,
   "id": "9d0dd991-3312-4227-a5c6-5ca63afe856e",
   "metadata": {},
   "outputs": [],
   "source": []
  }
 ],
 "metadata": {
  "kernelspec": {
   "display_name": "Python 3 (ipykernel)",
   "language": "python",
   "name": "python3"
  },
  "language_info": {
   "codemirror_mode": {
    "name": "ipython",
    "version": 3
   },
   "file_extension": ".py",
   "mimetype": "text/x-python",
   "name": "python",
   "nbconvert_exporter": "python",
   "pygments_lexer": "ipython3",
   "version": "3.12.7"
  }
 },
 "nbformat": 4,
 "nbformat_minor": 5
}
